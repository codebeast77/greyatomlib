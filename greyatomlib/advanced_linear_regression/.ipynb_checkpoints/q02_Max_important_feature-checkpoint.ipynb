{
 "cells": [
  {
   "cell_type": "code",
   "execution_count": null,
   "metadata": {},
   "outputs": [],
   "source": [
    "# %load q02_Max_important_feature/build.py\n",
    "# Default imports\n",
    "from greyatomlib.advanced_linear_regression.q01_load_data.build import load_data\n",
    "\n",
    "# We have already loaded the data for you\n",
    "data_set, X_train, X_test, y_train, y_test = load_data('data/house_prices_multivariate.csv')\n",
    "\n",
    "\n",
    "# Write your code here\n",
    "\n"
   ]
  },
  {
   "cell_type": "code",
   "execution_count": null,
   "metadata": {},
   "outputs": [],
   "source": []
  }
 ],
 "metadata": {
  "kernelspec": {
   "display_name": "Python 2",
   "language": "python",
   "name": "python2"
  },
  "language_info": {
   "codemirror_mode": {
    "name": "ipython",
    "version": 2
   },
   "file_extension": ".py",
   "mimetype": "text/x-python",
   "name": "python",
   "nbconvert_exporter": "python",
   "pygments_lexer": "ipython2",
   "version": "2.7.13"
  },
  "widgets": {
   "state": {},
   "version": "1.1.2"
  }
 },
 "nbformat": 4,
 "nbformat_minor": 2
}

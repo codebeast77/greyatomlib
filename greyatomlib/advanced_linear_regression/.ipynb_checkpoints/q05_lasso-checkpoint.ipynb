{
 "cells": [
  {
   "cell_type": "code",
   "execution_count": null,
   "metadata": {},
   "outputs": [],
   "source": [
    "# %load q05_lasso/build.py\n",
    "# Default imports\n",
    "from sklearn.linear_model import Lasso\n",
    "import pandas as pd\n",
    "import numpy as np\n",
    "from sklearn.metrics import mean_squared_error\n",
    "from greyatomlib.advanced_linear_regression.q01_load_data.build import load_data\n",
    "\n",
    "# We have already loaded the data for you\n",
    "data_set, X_train, X_test, y_train, y_test = load_data('data/house_prices_multivariate.csv')\n",
    "\n",
    "np.random.seed(9)\n",
    "\n",
    "\n",
    "# Write your solution here\n"
   ]
  },
  {
   "cell_type": "code",
   "execution_count": null,
   "metadata": {},
   "outputs": [],
   "source": []
  }
 ],
 "metadata": {
  "kernelspec": {
   "display_name": "Python 2",
   "language": "python",
   "name": "python2"
  },
  "language_info": {
   "codemirror_mode": {
    "name": "ipython",
    "version": 2
   },
   "file_extension": ".py",
   "mimetype": "text/x-python",
   "name": "python",
   "nbconvert_exporter": "python",
   "pygments_lexer": "ipython2",
   "version": "2.7.13"
  },
  "widgets": {
   "state": {},
   "version": "1.1.2"
  }
 },
 "nbformat": 4,
 "nbformat_minor": 2
}
